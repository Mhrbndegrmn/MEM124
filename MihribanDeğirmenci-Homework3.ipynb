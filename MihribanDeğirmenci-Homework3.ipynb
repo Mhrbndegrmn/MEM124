{
 "cells": [
  {
   "cell_type": "code",
   "execution_count": 24,
   "metadata": {},
   "outputs": [
    {
     "name": "stdout",
     "output_type": "stream",
     "text": [
      "please select way one of 1,2,3: 3\n",
      "we will calculate the arithmetic mean of 6 numbers\n",
      "\n",
      "please enter x: 5\n",
      "please enter y: 5\n",
      "please enter z: 5\n",
      "please enter t: 5\n",
      "please enter k: 5\n",
      "please enter l: 5\n",
      "your arithmetic mean is : 5.0\n"
     ]
    }
   ],
   "source": [
    "way=int(input(\"please select way one of 1,2,3: \"))\n",
    "if way==1:\n",
    "    print(\"we will calculate the length of hypotenuse in this way\\n\")\n",
    "    a=int(input(\"please enter the length of a: \"))\n",
    "    b=int(input(\"please enter the length of b: \"))\n",
    "    hypotenuse=a*a+b*b\n",
    "    print('the length of hypotenuse:',hypotenuse)\n",
    "elif way==2:\n",
    "    num=int(input(\"please enter a number: \"))\n",
    "    i=1\n",
    "    while i<=num:\n",
    "             \n",
    "        print(i) \n",
    "        i+=1\n",
    "        \n",
    "elif way==3:\n",
    "    print(\"we will calculate the arithmetic mean of 6 numbers\\n\")\n",
    "    x=int(input(\"please enter x: \"))\n",
    "    y=int(input(\"please enter y: \"))\n",
    "    z=int(input(\"please enter z: \"))\n",
    "    t=int(input(\"please enter t: \"))\n",
    "    k=int(input(\"please enter k: \"))\n",
    "    l=int(input(\"please enter l: \"))\n",
    "    mean_arithmetic=(x+y+z+t+k+l)/6\n",
    "    print('your arithmetic mean is :',mean_arithmetic)\n",
    "else:\n",
    "    print(\"please select new way again\\n\")"
   ]
  },
  {
   "cell_type": "code",
   "execution_count": null,
   "metadata": {},
   "outputs": [],
   "source": []
  },
  {
   "cell_type": "code",
   "execution_count": null,
   "metadata": {},
   "outputs": [],
   "source": []
  }
 ],
 "metadata": {
  "kernelspec": {
   "display_name": "Python 3",
   "language": "python",
   "name": "python3"
  },
  "language_info": {
   "codemirror_mode": {
    "name": "ipython",
    "version": 3
   },
   "file_extension": ".py",
   "mimetype": "text/x-python",
   "name": "python",
   "nbconvert_exporter": "python",
   "pygments_lexer": "ipython3",
   "version": "3.6.7"
  }
 },
 "nbformat": 4,
 "nbformat_minor": 2
}
